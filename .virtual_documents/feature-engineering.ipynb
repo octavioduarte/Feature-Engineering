# imports

import pandas as pd
from sklearn.preprocessing import  OneHotEncoder


























base_example_one_hot = pd.read_csv('online_course_engagement_data.csv')

base_example_one_hot.head()

# Let's apply one-hot-encoding on column 'CourseCategory'


base_example_one_hot = pd.read_csv('online_course_engagement_data.csv')

base_example_one_hot["CourseCategory"].value_counts()





categorical_column = ['CourseCategory']

encoder = OneHotEncoder(sparse_output=False)

base_example_one_hot_encoded = pd.DataFrame(encoder.fit_transform(base_example_one_hot[categorical_column]))

base_example_one_hot_encoded.columns = encoder.get_feature_names_out(categorical_column)

base_preprocessed = base_example_one_hot.drop(categorical_column, axis=1).reset_index(drop = True)

base_preprocessed = pd.concat([base_preprocessed, base_example_one_hot_encoded], axis = 1)

base_preprocessed.head(10)








base_example_encoding_frequency = pd.read_csv('online_course_engagement_data.csv')
 
base_example_encoding_frequency['CourseCategory'].value_counts()





frequency = base_example_encoding_frequency['CourseCategory'].value_counts()
 
base_example_encoding_frequency["CourseCategory"] = base_example_encoding_frequency["CourseCategory"].map(frequency)
 
base_example_encoding_frequency








base_example_mean_target_encoding = pd.read_csv('online_course_engagement_data.csv')

encode = base_example_mean_target_encoding.groupby('CourseCategory').apply(lambda base_example_mean_target_encoding: base_example_mean_target_encoding['CourseCompletion'].mean())

base_example_mean_target_encoding["CourseCategoryEncoded"] = base_example_mean_target_encoding["CourseCategory"].replace(encode.to_dict())

base_example_mean_target_encoding[["CourseCategory", "CourseCategoryEncoded", "CourseCompletion"]].head(20)



