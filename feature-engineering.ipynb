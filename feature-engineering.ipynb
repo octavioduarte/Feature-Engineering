{
 "cells": [
  {
   "cell_type": "markdown",
   "id": "938208b4-6954-4d52-8efb-4fbeff3b4a5b",
   "metadata": {},
   "source": [
    "#### What's Feature Engineering \n",
    "\n",
    "\n",
    "It's a technique to use business knowledge for selecting/handling the features of raw data. \n",
    "\n",
    "It's always good to remember that data doesn't arrive in a format suitable for model training. In the initial contact between a data professional and the data itself, a cleaning process is always necessary because the so-called raw data can lead to inefficient models. However, any strategy for editing/deleting or creating data within a set should be done with the premise that the solution to the business problem will not be affected - This is the basis of Feature Engineering."
   ]
  }
 ],
 "metadata": {
  "kernelspec": {
   "display_name": "Python 3 (ipykernel)",
   "language": "python",
   "name": "python3"
  },
  "language_info": {
   "codemirror_mode": {
    "name": "ipython",
    "version": 3
   },
   "file_extension": ".py",
   "mimetype": "text/x-python",
   "name": "python",
   "nbconvert_exporter": "python",
   "pygments_lexer": "ipython3",
   "version": "3.11.7"
  }
 },
 "nbformat": 4,
 "nbformat_minor": 5
}
