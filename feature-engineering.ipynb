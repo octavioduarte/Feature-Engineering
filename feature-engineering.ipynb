{
 "cells": [
  {
   "cell_type": "code",
   "execution_count": 5,
   "id": "a7639c4c-bb7d-4638-b231-593d2bf2429e",
   "metadata": {},
   "outputs": [],
   "source": [
    "# imports\n",
    "\n",
    "import pandas as pd\n",
    "from sklearn.preprocessing import  OneHotEncoder"
   ]
  },
  {
   "cell_type": "markdown",
   "id": "e30c1cbe-f49f-452f-9dad-67a83723d2a4",
   "metadata": {},
   "source": [
    "### What's Feature Engineering \n",
    "\n",
    "\n",
    "It's a technique to use business knowledge for selecting/handling the features of raw data. \n",
    "\n",
    "It's always good to remember that data doesn't arrive in a format suitable for model training. In the initial contact between a data professional and the data itself, a cleaning process is always necessary because the so-called raw data can lead to inefficient models. However, any strategy for editing/deleting or creating data within a set should be done with the premise that the solution to the business problem will not be affected - This is the basis of Feature Engineering."
   ]
  },
  {
   "cell_type": "markdown",
   "id": "74771b8e-297a-48f4-8dc1-69a113dcbc74",
   "metadata": {},
   "source": [
    "### Some techniques to apply in Feature Engineering\n",
    "\n",
    "Ok, by now we understand that we need to have knowledge of the business and the problem that needs to be solved. After that, we understand that we need to collect the data, which is the raw material for any model. Following that, we perform the process of exploratory analysis, a step in which we delve into the data to understand the relationships between them, possible gaps, etc. Now, it's time to perform the process of selecting the attributes that will be chosen for the model training. Once chosen, there are techniques to ensure that the format of these attributes is suitable for the process. Let's learn more about these techniques:"
   ]
  },
  {
   "cell_type": "markdown",
   "id": "10e61f87-90d1-4b8a-a03e-277886307f93",
   "metadata": {},
   "source": [
    "### Feature Engineering for Feature Selection"
   ]
  },
  {
   "cell_type": "markdown",
   "id": "9db2a291-fddd-41bb-b546-85986d3eee9f",
   "metadata": {},
   "source": [
    "#### Filters\n",
    "\n",
    "This involves applying techniques to assess how closely an attribute relates to my output variable. For instance, in a fraud analysis context, how crucial is choosing the \"Age\" attribute to determine whether a purchase is fraudulent or not? These are questions that can be answered through correlation analysis, for example. It's important to note that this process is independent of technology; it's a human analysis. While we can use graphical resources to visualize which attributes make sense for model training, the decision in this case is human-driven. The advantage of using filters for attribute selection is that it doesn't require computational cost for the process. Using filters for attribute selection is a common technique in the data science community."
   ]
  },
  {
   "cell_type": "markdown",
   "id": "fa8cde9b-f3b4-4442-afb8-dfb18b77f0e3",
   "metadata": {},
   "source": [
    "#### Wrapper Methods\n",
    "\n",
    "\n",
    "This technique involves instantiating an algorithm and passing our dataset to it. The algorithm divides the dataset into subsets with different combinations of attributes and determines, through an evaluation process (pay attention to this part), which combination of attributes is best for our training. An example of an algorithm that implements this technique is sklearn's RFE (Recursive Feature Elimination)."
   ]
  },
  {
   "cell_type": "markdown",
   "id": "5ec39689-aa4c-4b7b-843c-981cc1331fd1",
   "metadata": {},
   "source": [
    "#### Embedded Methods\n",
    "\n",
    "While wrapper methods determine the best combination of attributes through an evaluation process, embedded methods achieve this based on the results of the model training. This means that training and feature selection processes occur synchronously in embedded methods. In scikit-learn, for example, methods like RandomForest (whether for classification or regression) already incorporate techniques during training that determine the most relevant attributes for the model. However, this doesn't imply that when using RandomForest models, we shouldn't concern ourselves with attribute selection. Embedded methods can incur high computational costs, especially with large datasets, which can be problematic.\n",
    "\n",
    "Applying filtering before RandomForest, so it deals with a smaller set of attributes, is an appropriate solution, for example."
   ]
  },
  {
   "cell_type": "markdown",
   "id": "1f3b5b05-546d-4a3a-8892-231d3c0008db",
   "metadata": {},
   "source": [
    "### Feature Engineering for handling categorical variables:"
   ]
  },
  {
   "cell_type": "markdown",
   "id": "9f2c8deb-9f2f-4754-997c-15f6e898502b",
   "metadata": {},
   "source": [
    "#### One-Hot-Encoding 🔥\n",
    "\n",
    "Categorical variables are typically not in a suitable format for model training. It's common for them to arrive in text format, as mentioned in the examples above. The One-Hot-Encoding technique involves converting these values into numerical data. A practical example of this:"
   ]
  },
  {
   "cell_type": "code",
   "execution_count": 4,
   "id": "7f1cb19e-b050-4adb-8a12-3a1a08ebcb42",
   "metadata": {},
   "outputs": [
    {
     "data": {
      "text/html": [
       "<div>\n",
       "<style scoped>\n",
       "    .dataframe tbody tr th:only-of-type {\n",
       "        vertical-align: middle;\n",
       "    }\n",
       "\n",
       "    .dataframe tbody tr th {\n",
       "        vertical-align: top;\n",
       "    }\n",
       "\n",
       "    .dataframe thead th {\n",
       "        text-align: right;\n",
       "    }\n",
       "</style>\n",
       "<table border=\"1\" class=\"dataframe\">\n",
       "  <thead>\n",
       "    <tr style=\"text-align: right;\">\n",
       "      <th></th>\n",
       "      <th>UserID</th>\n",
       "      <th>CourseCategory</th>\n",
       "      <th>TimeSpentOnCourse</th>\n",
       "      <th>NumberOfVideosWatched</th>\n",
       "      <th>NumberOfQuizzesTaken</th>\n",
       "      <th>QuizScores</th>\n",
       "      <th>CompletionRate</th>\n",
       "      <th>DeviceType</th>\n",
       "      <th>CourseCompletion</th>\n",
       "    </tr>\n",
       "  </thead>\n",
       "  <tbody>\n",
       "    <tr>\n",
       "      <th>0</th>\n",
       "      <td>5618</td>\n",
       "      <td>Health</td>\n",
       "      <td>29.979719</td>\n",
       "      <td>17</td>\n",
       "      <td>3</td>\n",
       "      <td>50.365656</td>\n",
       "      <td>20.860773</td>\n",
       "      <td>1</td>\n",
       "      <td>0</td>\n",
       "    </tr>\n",
       "    <tr>\n",
       "      <th>1</th>\n",
       "      <td>4326</td>\n",
       "      <td>Arts</td>\n",
       "      <td>27.802640</td>\n",
       "      <td>1</td>\n",
       "      <td>5</td>\n",
       "      <td>62.615970</td>\n",
       "      <td>65.632415</td>\n",
       "      <td>1</td>\n",
       "      <td>0</td>\n",
       "    </tr>\n",
       "    <tr>\n",
       "      <th>2</th>\n",
       "      <td>5849</td>\n",
       "      <td>Arts</td>\n",
       "      <td>86.820485</td>\n",
       "      <td>14</td>\n",
       "      <td>2</td>\n",
       "      <td>78.458962</td>\n",
       "      <td>63.812007</td>\n",
       "      <td>1</td>\n",
       "      <td>1</td>\n",
       "    </tr>\n",
       "    <tr>\n",
       "      <th>3</th>\n",
       "      <td>4992</td>\n",
       "      <td>Science</td>\n",
       "      <td>35.038427</td>\n",
       "      <td>17</td>\n",
       "      <td>10</td>\n",
       "      <td>59.198853</td>\n",
       "      <td>95.433162</td>\n",
       "      <td>0</td>\n",
       "      <td>1</td>\n",
       "    </tr>\n",
       "    <tr>\n",
       "      <th>4</th>\n",
       "      <td>3866</td>\n",
       "      <td>Programming</td>\n",
       "      <td>92.490647</td>\n",
       "      <td>16</td>\n",
       "      <td>0</td>\n",
       "      <td>98.428285</td>\n",
       "      <td>18.102478</td>\n",
       "      <td>0</td>\n",
       "      <td>0</td>\n",
       "    </tr>\n",
       "  </tbody>\n",
       "</table>\n",
       "</div>"
      ],
      "text/plain": [
       "   UserID CourseCategory  TimeSpentOnCourse  NumberOfVideosWatched  \\\n",
       "0    5618         Health          29.979719                     17   \n",
       "1    4326           Arts          27.802640                      1   \n",
       "2    5849           Arts          86.820485                     14   \n",
       "3    4992        Science          35.038427                     17   \n",
       "4    3866    Programming          92.490647                     16   \n",
       "\n",
       "   NumberOfQuizzesTaken  QuizScores  CompletionRate  DeviceType  \\\n",
       "0                     3   50.365656       20.860773           1   \n",
       "1                     5   62.615970       65.632415           1   \n",
       "2                     2   78.458962       63.812007           1   \n",
       "3                    10   59.198853       95.433162           0   \n",
       "4                     0   98.428285       18.102478           0   \n",
       "\n",
       "   CourseCompletion  \n",
       "0                 0  \n",
       "1                 0  \n",
       "2                 1  \n",
       "3                 1  \n",
       "4                 0  "
      ]
     },
     "execution_count": 4,
     "metadata": {},
     "output_type": "execute_result"
    }
   ],
   "source": [
    "base_example_one_hot = pd.read_csv('online_course_engagement_data.csv')\n",
    "\n",
    "base_example_one_hot.head()\n",
    "\n",
    "# Let's apply one-hot-encoding on column 'CourseCategory'"
   ]
  },
  {
   "cell_type": "code",
   "execution_count": 11,
   "id": "5aab7124-f1c9-4a01-8210-8628bef299d4",
   "metadata": {},
   "outputs": [
    {
     "data": {
      "text/plain": [
       "CourseCategory\n",
       "Business       1837\n",
       "Health         1821\n",
       "Science        1814\n",
       "Programming    1810\n",
       "Arts           1718\n",
       "Name: count, dtype: int64"
      ]
     },
     "execution_count": 11,
     "metadata": {},
     "output_type": "execute_result"
    }
   ],
   "source": [
    "base_example_one_hot = pd.read_csv('online_course_engagement_data.csv')\n",
    "\n",
    "base_example_one_hot[\"CourseCategory\"].value_counts()"
   ]
  },
  {
   "cell_type": "markdown",
   "id": "49cbb2c9-69a2-470c-9f33-ebdf142e7e15",
   "metadata": {},
   "source": [
    "#### Applying One-Hot-Encoding technique"
   ]
  },
  {
   "cell_type": "code",
   "execution_count": 10,
   "id": "f7a3765c-834b-4cb3-a7c6-5c59874fd22d",
   "metadata": {},
   "outputs": [
    {
     "data": {
      "text/html": [
       "<div>\n",
       "<style scoped>\n",
       "    .dataframe tbody tr th:only-of-type {\n",
       "        vertical-align: middle;\n",
       "    }\n",
       "\n",
       "    .dataframe tbody tr th {\n",
       "        vertical-align: top;\n",
       "    }\n",
       "\n",
       "    .dataframe thead th {\n",
       "        text-align: right;\n",
       "    }\n",
       "</style>\n",
       "<table border=\"1\" class=\"dataframe\">\n",
       "  <thead>\n",
       "    <tr style=\"text-align: right;\">\n",
       "      <th></th>\n",
       "      <th>UserID</th>\n",
       "      <th>TimeSpentOnCourse</th>\n",
       "      <th>NumberOfVideosWatched</th>\n",
       "      <th>NumberOfQuizzesTaken</th>\n",
       "      <th>QuizScores</th>\n",
       "      <th>CompletionRate</th>\n",
       "      <th>DeviceType</th>\n",
       "      <th>CourseCompletion</th>\n",
       "      <th>CourseCategory_Arts</th>\n",
       "      <th>CourseCategory_Business</th>\n",
       "      <th>CourseCategory_Health</th>\n",
       "      <th>CourseCategory_Programming</th>\n",
       "      <th>CourseCategory_Science</th>\n",
       "    </tr>\n",
       "  </thead>\n",
       "  <tbody>\n",
       "    <tr>\n",
       "      <th>0</th>\n",
       "      <td>5618</td>\n",
       "      <td>29.979719</td>\n",
       "      <td>17</td>\n",
       "      <td>3</td>\n",
       "      <td>50.365656</td>\n",
       "      <td>20.860773</td>\n",
       "      <td>1</td>\n",
       "      <td>0</td>\n",
       "      <td>0.0</td>\n",
       "      <td>0.0</td>\n",
       "      <td>1.0</td>\n",
       "      <td>0.0</td>\n",
       "      <td>0.0</td>\n",
       "    </tr>\n",
       "    <tr>\n",
       "      <th>1</th>\n",
       "      <td>4326</td>\n",
       "      <td>27.802640</td>\n",
       "      <td>1</td>\n",
       "      <td>5</td>\n",
       "      <td>62.615970</td>\n",
       "      <td>65.632415</td>\n",
       "      <td>1</td>\n",
       "      <td>0</td>\n",
       "      <td>1.0</td>\n",
       "      <td>0.0</td>\n",
       "      <td>0.0</td>\n",
       "      <td>0.0</td>\n",
       "      <td>0.0</td>\n",
       "    </tr>\n",
       "    <tr>\n",
       "      <th>2</th>\n",
       "      <td>5849</td>\n",
       "      <td>86.820485</td>\n",
       "      <td>14</td>\n",
       "      <td>2</td>\n",
       "      <td>78.458962</td>\n",
       "      <td>63.812007</td>\n",
       "      <td>1</td>\n",
       "      <td>1</td>\n",
       "      <td>1.0</td>\n",
       "      <td>0.0</td>\n",
       "      <td>0.0</td>\n",
       "      <td>0.0</td>\n",
       "      <td>0.0</td>\n",
       "    </tr>\n",
       "    <tr>\n",
       "      <th>3</th>\n",
       "      <td>4992</td>\n",
       "      <td>35.038427</td>\n",
       "      <td>17</td>\n",
       "      <td>10</td>\n",
       "      <td>59.198853</td>\n",
       "      <td>95.433162</td>\n",
       "      <td>0</td>\n",
       "      <td>1</td>\n",
       "      <td>0.0</td>\n",
       "      <td>0.0</td>\n",
       "      <td>0.0</td>\n",
       "      <td>0.0</td>\n",
       "      <td>1.0</td>\n",
       "    </tr>\n",
       "    <tr>\n",
       "      <th>4</th>\n",
       "      <td>3866</td>\n",
       "      <td>92.490647</td>\n",
       "      <td>16</td>\n",
       "      <td>0</td>\n",
       "      <td>98.428285</td>\n",
       "      <td>18.102478</td>\n",
       "      <td>0</td>\n",
       "      <td>0</td>\n",
       "      <td>0.0</td>\n",
       "      <td>0.0</td>\n",
       "      <td>0.0</td>\n",
       "      <td>1.0</td>\n",
       "      <td>0.0</td>\n",
       "    </tr>\n",
       "  </tbody>\n",
       "</table>\n",
       "</div>"
      ],
      "text/plain": [
       "   UserID  TimeSpentOnCourse  NumberOfVideosWatched  NumberOfQuizzesTaken  \\\n",
       "0    5618          29.979719                     17                     3   \n",
       "1    4326          27.802640                      1                     5   \n",
       "2    5849          86.820485                     14                     2   \n",
       "3    4992          35.038427                     17                    10   \n",
       "4    3866          92.490647                     16                     0   \n",
       "\n",
       "   QuizScores  CompletionRate  DeviceType  CourseCompletion  \\\n",
       "0   50.365656       20.860773           1                 0   \n",
       "1   62.615970       65.632415           1                 0   \n",
       "2   78.458962       63.812007           1                 1   \n",
       "3   59.198853       95.433162           0                 1   \n",
       "4   98.428285       18.102478           0                 0   \n",
       "\n",
       "   CourseCategory_Arts  CourseCategory_Business  CourseCategory_Health  \\\n",
       "0                  0.0                      0.0                    1.0   \n",
       "1                  1.0                      0.0                    0.0   \n",
       "2                  1.0                      0.0                    0.0   \n",
       "3                  0.0                      0.0                    0.0   \n",
       "4                  0.0                      0.0                    0.0   \n",
       "\n",
       "   CourseCategory_Programming  CourseCategory_Science  \n",
       "0                         0.0                     0.0  \n",
       "1                         0.0                     0.0  \n",
       "2                         0.0                     0.0  \n",
       "3                         0.0                     1.0  \n",
       "4                         1.0                     0.0  "
      ]
     },
     "execution_count": 10,
     "metadata": {},
     "output_type": "execute_result"
    }
   ],
   "source": [
    "categorical_column = ['CourseCategory']\n",
    "\n",
    "encoder = OneHotEncoder(sparse_output=False)\n",
    "\n",
    "base_example_one_hot_encoded = pd.DataFrame(encoder.fit_transform(base_example_one_hot[categorical_column]))\n",
    "\n",
    "base_example_one_hot_encoded.columns = encoder.get_feature_names_out(categorical_column)\n",
    "\n",
    "base_preprocessed = base_example_one_hot.drop(categorical_column, axis=1).reset_index(drop = True)\n",
    "\n",
    "base_preprocessed = pd.concat([base_preprocessed, base_example_one_hot_encoded], axis = 1)\n",
    "\n",
    "base_preprocessed.head()"
   ]
  },
  {
   "cell_type": "markdown",
   "id": "c3823bc5-b0f8-42f3-8a31-a2d320a4ab66",
   "metadata": {},
   "source": [
    "Now, instead of a text with the name of the course category, we have binary columns filled with 1 if the registration belongs to this category, and 0 if it does not."
   ]
  }
 ],
 "metadata": {
  "kernelspec": {
   "display_name": "Python 3 (ipykernel)",
   "language": "python",
   "name": "python3"
  },
  "language_info": {
   "codemirror_mode": {
    "name": "ipython",
    "version": 3
   },
   "file_extension": ".py",
   "mimetype": "text/x-python",
   "name": "python",
   "nbconvert_exporter": "python",
   "pygments_lexer": "ipython3",
   "version": "3.11.7"
  }
 },
 "nbformat": 4,
 "nbformat_minor": 5
}
