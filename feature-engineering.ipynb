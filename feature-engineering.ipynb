{
 "cells": [
  {
   "cell_type": "markdown",
   "id": "938208b4-6954-4d52-8efb-4fbeff3b4a5b",
   "metadata": {},
   "source": [
    "### What's Feature Engineering \n",
    "\n",
    "\n",
    "It's a technique to use business knowledge for selecting/handling the features of raw data. \n",
    "\n",
    "It's always good to remember that data doesn't arrive in a format suitable for model training. In the initial contact between a data professional and the data itself, a cleaning process is always necessary because the so-called raw data can lead to inefficient models. However, any strategy for editing/deleting or creating data within a set should be done with the premise that the solution to the business problem will not be affected - This is the basis of Feature Engineering."
   ]
  },
  {
   "cell_type": "markdown",
   "id": "74771b8e-297a-48f4-8dc1-69a113dcbc74",
   "metadata": {},
   "source": [
    "### Some techniques to apply in Feature Engineering\n",
    "\n",
    "Ok, by now we understand that we need to have knowledge of the business and the problem that needs to be solved. After that, we understand that we need to collect the data, which is the raw material for any model. Following that, we perform the process of exploratory analysis, a step in which we delve into the data to understand the relationships between them, possible gaps, etc. Now, it's time to perform the process of selecting the attributes that will be chosen for the model training. Once chosen, there are techniques to ensure that the format of these attributes is suitable for the process. Let's learn more about these techniques:"
   ]
  },
  {
   "cell_type": "markdown",
   "id": "10e61f87-90d1-4b8a-a03e-277886307f93",
   "metadata": {},
   "source": [
    "### Feature Engineering for Feature Selection"
   ]
  },
  {
   "cell_type": "markdown",
   "id": "9db2a291-fddd-41bb-b546-85986d3eee9f",
   "metadata": {},
   "source": [
    "#### Filters\n",
    "\n",
    "This involves applying techniques to assess how closely an attribute relates to my output variable. For instance, in a fraud analysis context, how crucial is choosing the \"Age\" attribute to determine whether a purchase is fraudulent or not? These are questions that can be answered through correlation analysis, for example. It's important to note that this process is independent of technology; it's a human analysis. While we can use graphical resources to visualize which attributes make sense for model training, the decision in this case is human-driven. The advantage of using filters for attribute selection is that it doesn't require computational cost for the process. Using filters for attribute selection is a common technique in the data science community."
   ]
  },
  {
   "cell_type": "markdown",
   "id": "fa8cde9b-f3b4-4442-afb8-dfb18b77f0e3",
   "metadata": {},
   "source": [
    "#### Wrapper Methods\n",
    "\n",
    "\n",
    "This technique involves instantiating an algorithm and passing our dataset to it. The algorithm divides the dataset into subsets with different combinations of attributes and determines, through an evaluation process (pay attention to this part), which combination of attributes is best for our training. An example of an algorithm that implements this technique is sklearn's RFE (Recursive Feature Elimination)."
   ]
  },
  {
   "cell_type": "markdown",
   "id": "5ec39689-aa4c-4b7b-843c-981cc1331fd1",
   "metadata": {},
   "source": [
    "#### Embedded Methods\n",
    "\n",
    "While wrapper methods determine the best combination of attributes through an evaluation process, embedded methods achieve this based on the results of the model training. This means that training and feature selection processes occur synchronously in embedded methods. In scikit-learn, for example, methods like RandomForest (whether for classification or regression) already incorporate techniques during training that determine the most relevant attributes for the model. However, this doesn't imply that when using RandomForest models, we shouldn't concern ourselves with attribute selection. Embedded methods can incur high computational costs, especially with large datasets, which can be problematic.\n",
    "\n",
    "Applying filtering before RandomForest, so it deals with a smaller set of attributes, is an appropriate solution, for example."
   ]
  }
 ],
 "metadata": {
  "kernelspec": {
   "display_name": "Python 3 (ipykernel)",
   "language": "python",
   "name": "python3"
  },
  "language_info": {
   "codemirror_mode": {
    "name": "ipython",
    "version": 3
   },
   "file_extension": ".py",
   "mimetype": "text/x-python",
   "name": "python",
   "nbconvert_exporter": "python",
   "pygments_lexer": "ipython3",
   "version": "3.11.7"
  }
 },
 "nbformat": 4,
 "nbformat_minor": 5
}
